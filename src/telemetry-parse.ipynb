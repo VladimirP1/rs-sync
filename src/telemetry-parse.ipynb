{
 "cells": [
  {
   "cell_type": "code",
   "execution_count": 1,
   "metadata": {},
   "outputs": [],
   "source": []
  },
  {
   "cell_type": "code",
   "execution_count": 26,
   "metadata": {},
   "outputs": [],
   "source": [
    "import telemetry_parser\n",
    "tp = telemetry_parser.Parser('../build/GX019642.MP4')\n",
    "t = tp.telemetry()\n",
    "exp = []\n",
    "for i in range(1,len(t)):\n",
    "    exp.extend(t[i]['Exposure']['Data'])"
   ]
  },
  {
   "cell_type": "code",
   "execution_count": 12,
   "metadata": {},
   "outputs": [],
   "source": []
  },
  {
   "cell_type": "code",
   "execution_count": 63,
   "metadata": {},
   "outputs": [],
   "source": [
    "import pandas as pd\n",
    "import numpy as np\n",
    "import matplotlib.pyplot as plt\n",
    "\n",
    "data = pd.read_csv('../build/VID_20220205_123905.csv')\n",
    "\n",
    "\n",
    "time = data.values[:,1]\n",
    "log_time = time[-1] - time[0]\n",
    "sample_rate = len(data.values)/log_time\n",
    "\n",
    "with open('../build/VID_20220205_123905.bb.csv','w') as f:\n",
    "    print('loopIteration,time,gyroADC[0],gyroADC[1],gyroADC[2]', file = f)\n",
    "\n",
    "    for i in range(len(data.values)):\n",
    "        scale = 1\n",
    "        print(i, int(1e6*i/sample_rate), data.values[i,2]*scale, data.values[i,3]*scale, data.values[i,4]*scale,sep=',',file=f)\n"
   ]
  },
  {
   "cell_type": "code",
   "execution_count": 59,
   "metadata": {},
   "outputs": [
    {
     "data": {
      "text/plain": [
       "108.31113370025852"
      ]
     },
     "execution_count": 59,
     "metadata": {},
     "output_type": "execute_result"
    }
   ],
   "source": [
    "sample_rate"
   ]
  },
  {
   "cell_type": "code",
   "execution_count": 60,
   "metadata": {},
   "outputs": [
    {
     "data": {
      "text/html": [
       "<div>\n",
       "<style scoped>\n",
       "    .dataframe tbody tr th:only-of-type {\n",
       "        vertical-align: middle;\n",
       "    }\n",
       "\n",
       "    .dataframe tbody tr th {\n",
       "        vertical-align: top;\n",
       "    }\n",
       "\n",
       "    .dataframe thead th {\n",
       "        text-align: right;\n",
       "    }\n",
       "</style>\n",
       "<table border=\"1\" class=\"dataframe\">\n",
       "  <thead>\n",
       "    <tr style=\"text-align: right;\">\n",
       "      <th></th>\n",
       "      <th>time</th>\n",
       "      <th>seconds_elapsed</th>\n",
       "      <th>z</th>\n",
       "      <th>y</th>\n",
       "      <th>x</th>\n",
       "    </tr>\n",
       "  </thead>\n",
       "  <tbody>\n",
       "    <tr>\n",
       "      <th>0</th>\n",
       "      <td>1644053933940496400</td>\n",
       "      <td>0.066496</td>\n",
       "      <td>0.026572</td>\n",
       "      <td>-0.242354</td>\n",
       "      <td>-0.060474</td>\n",
       "    </tr>\n",
       "    <tr>\n",
       "      <th>1</th>\n",
       "      <td>1644053933949730000</td>\n",
       "      <td>0.075730</td>\n",
       "      <td>0.010384</td>\n",
       "      <td>-0.197609</td>\n",
       "      <td>-0.102775</td>\n",
       "    </tr>\n",
       "    <tr>\n",
       "      <th>2</th>\n",
       "      <td>1644053933958962400</td>\n",
       "      <td>0.084962</td>\n",
       "      <td>-0.001985</td>\n",
       "      <td>-0.142175</td>\n",
       "      <td>-0.131485</td>\n",
       "    </tr>\n",
       "    <tr>\n",
       "      <th>3</th>\n",
       "      <td>1644053933968196000</td>\n",
       "      <td>0.094196</td>\n",
       "      <td>-0.021685</td>\n",
       "      <td>-0.090100</td>\n",
       "      <td>-0.157599</td>\n",
       "    </tr>\n",
       "    <tr>\n",
       "      <th>4</th>\n",
       "      <td>1644053933977429800</td>\n",
       "      <td>0.103430</td>\n",
       "      <td>-0.040163</td>\n",
       "      <td>-0.063375</td>\n",
       "      <td>-0.172564</td>\n",
       "    </tr>\n",
       "    <tr>\n",
       "      <th>...</th>\n",
       "      <td>...</td>\n",
       "      <td>...</td>\n",
       "      <td>...</td>\n",
       "      <td>...</td>\n",
       "      <td>...</td>\n",
       "    </tr>\n",
       "    <tr>\n",
       "      <th>9850</th>\n",
       "      <td>1644054024891438600</td>\n",
       "      <td>91.017438</td>\n",
       "      <td>-0.032375</td>\n",
       "      <td>-0.058489</td>\n",
       "      <td>0.023823</td>\n",
       "    </tr>\n",
       "    <tr>\n",
       "      <th>9851</th>\n",
       "      <td>1644054024900672000</td>\n",
       "      <td>91.026672</td>\n",
       "      <td>-0.062459</td>\n",
       "      <td>0.089031</td>\n",
       "      <td>0.042301</td>\n",
       "    </tr>\n",
       "    <tr>\n",
       "      <th>9852</th>\n",
       "      <td>1644054024909905400</td>\n",
       "      <td>91.035906</td>\n",
       "      <td>-0.085060</td>\n",
       "      <td>0.259457</td>\n",
       "      <td>0.095598</td>\n",
       "    </tr>\n",
       "    <tr>\n",
       "      <th>9853</th>\n",
       "      <td>1644054024919138800</td>\n",
       "      <td>91.045139</td>\n",
       "      <td>-0.098652</td>\n",
       "      <td>0.402090</td>\n",
       "      <td>0.188599</td>\n",
       "    </tr>\n",
       "    <tr>\n",
       "      <th>9854</th>\n",
       "      <td>1644054024928372200</td>\n",
       "      <td>91.054372</td>\n",
       "      <td>-0.116061</td>\n",
       "      <td>0.479668</td>\n",
       "      <td>0.292901</td>\n",
       "    </tr>\n",
       "  </tbody>\n",
       "</table>\n",
       "<p>9855 rows × 5 columns</p>\n",
       "</div>"
      ],
      "text/plain": [
       "                     time  seconds_elapsed         z         y         x\n",
       "0     1644053933940496400         0.066496  0.026572 -0.242354 -0.060474\n",
       "1     1644053933949730000         0.075730  0.010384 -0.197609 -0.102775\n",
       "2     1644053933958962400         0.084962 -0.001985 -0.142175 -0.131485\n",
       "3     1644053933968196000         0.094196 -0.021685 -0.090100 -0.157599\n",
       "4     1644053933977429800         0.103430 -0.040163 -0.063375 -0.172564\n",
       "...                   ...              ...       ...       ...       ...\n",
       "9850  1644054024891438600        91.017438 -0.032375 -0.058489  0.023823\n",
       "9851  1644054024900672000        91.026672 -0.062459  0.089031  0.042301\n",
       "9852  1644054024909905400        91.035906 -0.085060  0.259457  0.095598\n",
       "9853  1644054024919138800        91.045139 -0.098652  0.402090  0.188599\n",
       "9854  1644054024928372200        91.054372 -0.116061  0.479668  0.292901\n",
       "\n",
       "[9855 rows x 5 columns]"
      ]
     },
     "execution_count": 60,
     "metadata": {},
     "output_type": "execute_result"
    }
   ],
   "source": [
    "data"
   ]
  },
  {
   "cell_type": "code",
   "execution_count": null,
   "metadata": {},
   "outputs": [],
   "source": []
  }
 ],
 "metadata": {
  "interpreter": {
   "hash": "31f2aee4e71d21fbe5cf8b01ff0e069b9275f58929596ceb00d14d90e3e16cd6"
  },
  "kernelspec": {
   "display_name": "Python 3.8.10 64-bit",
   "language": "python",
   "name": "python3"
  },
  "language_info": {
   "codemirror_mode": {
    "name": "ipython",
    "version": 3
   },
   "file_extension": ".py",
   "mimetype": "text/x-python",
   "name": "python",
   "nbconvert_exporter": "python",
   "pygments_lexer": "ipython3",
   "version": "3.9.5"
  },
  "orig_nbformat": 4
 },
 "nbformat": 4,
 "nbformat_minor": 2
}
